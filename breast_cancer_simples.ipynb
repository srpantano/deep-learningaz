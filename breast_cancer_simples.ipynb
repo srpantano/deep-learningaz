{
  "nbformat": 4,
  "nbformat_minor": 0,
  "metadata": {
    "colab": {
      "name": "breast_cancer_simples.ipynb",
      "version": "0.3.2",
      "provenance": [],
      "collapsed_sections": [],
      "include_colab_link": true
    },
    "kernelspec": {
      "name": "python3",
      "display_name": "Python 3"
    }
  },
  "cells": [
    {
      "cell_type": "markdown",
      "metadata": {
        "id": "view-in-github",
        "colab_type": "text"
      },
      "source": [
        "<a href=\"https://colab.research.google.com/github/srpantano/deep-learningaz/blob/master/breast_cancer_simples.ipynb\" target=\"_parent\"><img src=\"https://colab.research.google.com/assets/colab-badge.svg\" alt=\"Open In Colab\"/></a>"
      ]
    },
    {
      "cell_type": "markdown",
      "metadata": {
        "id": "C4xQplLyuBea",
        "colab_type": "text"
      },
      "source": [
        "> ## Importa as bibliotecas"
      ]
    },
    {
      "cell_type": "code",
      "metadata": {
        "id": "e0b6Jb3K2Zde",
        "colab_type": "code",
        "colab": {}
      },
      "source": [
        "import pandas as pd\n",
        "from sklearn.model_selection import train_test_split\n",
        "from sklearn.metrics import confusion_matrix, accuracy_score\n",
        "import keras\n",
        "from keras.models import Sequential\n",
        "from keras.layers import Dense"
      ],
      "execution_count": 0,
      "outputs": []
    },
    {
      "cell_type": "markdown",
      "metadata": {
        "id": "5mOjhbVfuHuk",
        "colab_type": "text"
      },
      "source": [
        "> ## Importa as base de dados e divide entre treino e teste"
      ]
    },
    {
      "cell_type": "code",
      "metadata": {
        "id": "D9F8EaRA3DRQ",
        "colab_type": "code",
        "colab": {}
      },
      "source": [
        "X = pd.read_csv('https://raw.githubusercontent.com/srpantano/Learnpath/master/entradas-breast.csv')\n",
        "y = pd.read_csv('https://raw.githubusercontent.com/srpantano/Learnpath/master/saidas-breast.csv')\n",
        "X_train, X_test, y_train, y_test = train_test_split(X, y, test_size=0.25)"
      ],
      "execution_count": 0,
      "outputs": []
    },
    {
      "cell_type": "markdown",
      "metadata": {
        "id": "JUVUB-PytuJ9",
        "colab_type": "text"
      },
      "source": [
        "> ## Cria a rede neural"
      ]
    },
    {
      "cell_type": "code",
      "metadata": {
        "id": "4k9eGsLf3hR3",
        "colab_type": "code",
        "colab": {}
      },
      "source": [
        "classifier = Sequential()\n",
        "'''Número de classes é 30. A saída é binário (é ou não malígno) = \n",
        "units é o número de neurônios na camada\n",
        "(30 classes + 1 saída) / 2 = 15.5, arredonda para 16\n",
        "relu é a função de ativação mais indicada para camadas ocultas de Deep Learning\n",
        "input_dim = Quantidade de classes de entrada\n",
        "Por padrão ele possui um parâmetro use_bias=True, para utilizar Bias'''\n",
        "classifier.add(Dense(units = 16, activation='relu', \n",
        "                     kernel_initializer='random_uniform', \n",
        "                     input_dim = 30))\n",
        "classifier.add(Dense(units = 16, activation='relu', \n",
        "                     kernel_initializer='random_uniform'))\n",
        "#Saída binária, sigmoid para ser entre 0 e 1\n",
        "classifier.add(Dense(units = 1, activation = 'sigmoid'))\n",
        "\n",
        "'''clipvalue e clipenorm são parametros globais dos otimizadores. Eles servem como\n",
        "fixadores para os saltos na bisca do mínimo global'''\n",
        "'''Learning rate (lr) alto pode fazer com que ele \"pule\" o mímno. Já o alto é mais preciso, porém lento.\n",
        "Default lr = 0.001\n",
        "Decaimento (decay) o quanto ele irá decair a cada iteração.'''\n",
        "optimizerCustom = keras.optimizers.Adam(lr = 0.001, decay = 0.0001, clipvalue = 0.5)\n",
        "classifier.compile(optimizer = optimizerCustom, loss = 'binary_crossentropy', \n",
        "                   metrics = ['binary_accuracy']) #Utilizando o otimizador customizado\n",
        "\n",
        "#classifier.compile(optimizer = 'adam', loss = 'binary_crossentropy', \n",
        "#                   metrics = ['binary_accuracy'])"
      ],
      "execution_count": 0,
      "outputs": []
    },
    {
      "cell_type": "markdown",
      "metadata": {
        "id": "4ywNEENbt1rM",
        "colab_type": "text"
      },
      "source": [
        "> ## Faz o treinamento da rede"
      ]
    },
    {
      "cell_type": "code",
      "metadata": {
        "id": "c9uT-RjqCx0C",
        "colab_type": "code",
        "colab": {}
      },
      "source": [
        "#batch_size = 10, significa que ele ajusta os pesos a cada 10 registros.\n",
        "classifier.fit(X_train, y_train, batch_size = 10, epochs = 100)"
      ],
      "execution_count": 0,
      "outputs": []
    },
    {
      "cell_type": "markdown",
      "metadata": {
        "id": "VD5Xg5o2sW4H",
        "colab_type": "text"
      },
      "source": [
        "> ## Recupera os pesos da rede\n",
        "\n",
        "Ele cria uma lista com 2 linhas:  \n",
        " \n",
        "> 1.   pesos das conexões\n",
        "> 2.   Pesos dos Bias"
      ]
    },
    {
      "cell_type": "code",
      "metadata": {
        "id": "cuZvBJtvr7a_",
        "colab_type": "code",
        "colab": {}
      },
      "source": [
        "weights0 = classifier.layers[0].get_weights() #pesos da primeira camada oculta\n",
        "weights1 = classifier.layers[1].get_weights() #pesos da segunda camada oculta\n",
        "weightsExit = classifier.layers[2].get_weights() #pesos da segunda camada de saída"
      ],
      "execution_count": 0,
      "outputs": []
    },
    {
      "cell_type": "code",
      "metadata": {
        "id": "-7dfpeSPyrsb",
        "colab_type": "code",
        "colab": {}
      },
      "source": [
        "# print(weights0)\n",
        "print('Tamanho dos pesos da primeira camada: ' + str(len(weights0)))\n",
        "print('Quantidade de pesos da primeira camada: {}'.format(len(weights0[0])))\n",
        "print('Quantidade de Bias da primeira camada: {}'.format(len(weights0[1])))\n",
        "print('Tamanho dos pesos da segunda camada: ' + str(len(weights1)))\n",
        "print('Quantidade de pesos da segunda camada: {}'.format(len(weights1[0])))\n",
        "print('Quantidade de Bias da segunda camada: {}'.format(len(weights1[1])))\n",
        "print('Tamanho dos pesos da camada de saída: ' + str(len(weightsExit)))\n",
        "print('Quantidade de pesos da camada de saída: {}'.format(len(weightsExit[0])))\n",
        "print('Quantidade de Bias da camada de saída: {}'.format(len(weightsExit[1])))"
      ],
      "execution_count": 0,
      "outputs": []
    },
    {
      "cell_type": "markdown",
      "metadata": {
        "id": "UGsxQN6g0NcK",
        "colab_type": "text"
      },
      "source": [
        ">## Realiza as previsões dos dados de teste, de acordo com o que foi treinado."
      ]
    },
    {
      "cell_type": "code",
      "metadata": {
        "id": "GFHhr6IwHZRN",
        "colab_type": "code",
        "colab": {}
      },
      "source": [
        "yHat = classifier.predict(X_test)\n",
        "yHat  = (yHat > 0.5) #True se for acima de 0.5, se não False."
      ],
      "execution_count": 0,
      "outputs": []
    },
    {
      "cell_type": "markdown",
      "metadata": {
        "id": "upV55g3niKP9",
        "colab_type": "text"
      },
      "source": [
        ">## Exibindo os resultados utilzando o Sckit-learn"
      ]
    },
    {
      "cell_type": "code",
      "metadata": {
        "id": "WRB-n3tYH7SF",
        "colab_type": "code",
        "colab": {}
      },
      "source": [
        "precision = accuracy_score(y_test, yHat)\n",
        "matrix_confusion = confusion_matrix(y_test, yHat)\n",
        "print(precision)\n",
        "print(matrix_confusion)"
      ],
      "execution_count": 0,
      "outputs": []
    },
    {
      "cell_type": "markdown",
      "metadata": {
        "id": "01a0nMCRigoT",
        "colab_type": "text"
      },
      "source": [
        ">## Exibindo os resultados utilzando o Keras"
      ]
    },
    {
      "cell_type": "code",
      "metadata": {
        "id": "dvSnwUhJii2G",
        "colab_type": "code",
        "colab": {}
      },
      "source": [
        "result = classifier.evaluate(X_test, y_test)\n",
        "print(result)"
      ],
      "execution_count": 0,
      "outputs": []
    },
    {
      "cell_type": "markdown",
      "metadata": {
        "id": "0peFLUj1uaiU",
        "colab_type": "text"
      },
      "source": [
        ">## Salva o modelo construido"
      ]
    },
    {
      "cell_type": "code",
      "metadata": {
        "id": "8V-2VJZqkLRM",
        "colab_type": "code",
        "colab": {}
      },
      "source": [
        "from keras.utils import plot_model\n",
        "plot_model(classifier, to_file='model.png')"
      ],
      "execution_count": 0,
      "outputs": []
    }
  ]
}