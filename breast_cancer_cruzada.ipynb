{
  "nbformat": 4,
  "nbformat_minor": 0,
  "metadata": {
    "colab": {
      "name": "breast_cancer_cruzada.ipynb",
      "version": "0.3.2",
      "provenance": [],
      "collapsed_sections": [],
      "include_colab_link": true
    },
    "kernelspec": {
      "name": "python3",
      "display_name": "Python 3"
    }
  },
  "cells": [
    {
      "cell_type": "markdown",
      "metadata": {
        "id": "view-in-github",
        "colab_type": "text"
      },
      "source": [
        "<a href=\"https://colab.research.google.com/github/srpantano/deep-learningaz/blob/master/breast_cancer_cruzada.ipynb\" target=\"_parent\"><img src=\"https://colab.research.google.com/assets/colab-badge.svg\" alt=\"Open In Colab\"/></a>"
      ]
    },
    {
      "cell_type": "markdown",
      "metadata": {
        "id": "d3WDNXXa2O52",
        "colab_type": "text"
      },
      "source": [
        "> ## Importa as bibliotecas"
      ]
    },
    {
      "cell_type": "code",
      "metadata": {
        "id": "8rkXpLF917oL",
        "colab_type": "code",
        "colab": {}
      },
      "source": [
        "import pandas as pd\n",
        "import keras\n",
        "from keras.models import Sequential\n",
        "from keras.layers import Dense, Dropout\n",
        "from keras.wrappers.scikit_learn import KerasClassifier\n",
        "from sklearn.model_selection import cross_val_score"
      ],
      "execution_count": 0,
      "outputs": []
    },
    {
      "cell_type": "markdown",
      "metadata": {
        "id": "JVo-fWCt2Zmd",
        "colab_type": "text"
      },
      "source": [
        "> ## Importa as base de dados"
      ]
    },
    {
      "cell_type": "code",
      "metadata": {
        "id": "HoeS-fyM2azd",
        "colab_type": "code",
        "colab": {}
      },
      "source": [
        "X = pd.read_csv('https://raw.githubusercontent.com/srpantano/Learnpath/master/entradas-breast.csv')\n",
        "y = pd.read_csv('https://raw.githubusercontent.com/srpantano/Learnpath/master/saidas-breast.csv')  "
      ],
      "execution_count": 0,
      "outputs": []
    },
    {
      "cell_type": "markdown",
      "metadata": {
        "id": "IQy6UvdN34pV",
        "colab_type": "text"
      },
      "source": [
        "> ## Define a rede neural\n",
        "\n",
        ">>>>>>> ![alt text](https://raw.githubusercontent.com/srpantano/Learnpath/master/Rede.png)\n",
        "\n",
        "Foi utilizado Dropout de 20% (valor indicado entre 20% e 30%) nas duas camadas ocultas."
      ]
    },
    {
      "cell_type": "code",
      "metadata": {
        "id": "vmIkQQiT2--J",
        "colab_type": "code",
        "colab": {}
      },
      "source": [
        "def createNetwork():\n",
        "  classifier = Sequential()\n",
        "  '''Número de classes é 30. A saída é binário (é ou não malígno) = \n",
        "  units é o número de neurônios na camada\n",
        "  (30 classes + 1 saída) / 2 = 15.5, arredonda para 16\n",
        "  relu é a função de ativação mais indicada para camadas ocultas de Deep Learning\n",
        "  input_dim = Quantidade de classes de entrada\n",
        "  Por padrão ele possui um parâmetro use_bias=True, para utilizar Bias'''\n",
        "  classifier.add(Dense(units = 16, activation='relu', \n",
        "                       kernel_initializer='random_uniform', \n",
        "                       input_dim = 30))\n",
        "  \n",
        "  classifier.add(Dropout(0.2))\n",
        "  \n",
        "  classifier.add(Dense(units = 16, activation='relu', \n",
        "                       kernel_initializer='random_uniform'))\n",
        "  \n",
        "  classifier.add(Dropout(0.2))\n",
        "  \n",
        "  #Saída binária, sigmoid para ser entre 0 e 1\n",
        "  classifier.add(Dense(units = 1, activation = 'sigmoid'))\n",
        "\n",
        "  '''clipvalue e clipenorm são parametros globais dos otimizadores. Eles servem como\n",
        "  fixadores para os saltos na bisca do mínimo global'''\n",
        "  '''Learning rate (lr) alto pode fazer com que ele \"pule\" o mímno. Já o alto é mais preciso, porém lento.\n",
        "  Default lr = 0.001\n",
        "  Decaimento (decay) o quanto ele irá decair a cada iteração.'''\n",
        "  optimizerCustom = keras.optimizers.Adam(lr = 0.001, decay = 0.0001, \n",
        "                                          clipvalue = 0.5)\n",
        "  classifier.compile(optimizer = optimizerCustom, loss = 'binary_crossentropy', \n",
        "                     metrics = ['binary_accuracy']) #Utilizando o otimizador customizado\n",
        "  \n",
        "  return classifier"
      ],
      "execution_count": 0,
      "outputs": []
    },
    {
      "cell_type": "markdown",
      "metadata": {
        "id": "qghokhY_8N-7",
        "colab_type": "text"
      },
      "source": [
        ">## Cria o modelo"
      ]
    },
    {
      "cell_type": "code",
      "metadata": {
        "id": "Oo1wD8vV4A-n",
        "colab_type": "code",
        "colab": {}
      },
      "source": [
        "classifier = KerasClassifier(build_fn = createNetwork, epochs=100, batch_size = 10)"
      ],
      "execution_count": 0,
      "outputs": []
    },
    {
      "cell_type": "markdown",
      "metadata": {
        "id": "h5_XbonO8XSL",
        "colab_type": "text"
      },
      "source": [
        ">## Roda o modelo utilizando Validação Cruzada (K-Fold)\n",
        "O K-Fold divide o dataset em partes e treina / testa com a *todas* as partes existentes. Por padrão se utiliza 10 partes.\n",
        "\n",
        ">>>>>>> ![alt text](https://raw.githubusercontent.com/srpantano/Learnpath/master/k-fold-cross-validation-scheme-example.png)"
      ]
    },
    {
      "cell_type": "code",
      "metadata": {
        "id": "mZ_nt63f4phR",
        "colab_type": "code",
        "colab": {}
      },
      "source": [
        "#O parâmtro cv diz o número de partes.\n",
        "result = cross_val_score(classifier, X, y, cv = 10, scoring = 'accuracy')"
      ],
      "execution_count": 0,
      "outputs": []
    },
    {
      "cell_type": "code",
      "metadata": {
        "id": "J4kZ0b8u62nG",
        "colab_type": "code",
        "colab": {
          "base_uri": "https://localhost:8080/",
          "height": 51
        },
        "outputId": "48c2fc08-1b8f-44b1-cc2a-6ab9273a29d0"
      },
      "source": [
        "print('Média: ' + str(result.mean()))\n",
        "print(\"Desvio padrão: {}\".format(result.std())) #Quanto maior o desvio, maior a tendência de overfitting"
      ],
      "execution_count": 17,
      "outputs": [
        {
          "output_type": "stream",
          "text": [
            "Média: 0.8047305764411027\n",
            "Desvio padrão: 0.09489348370927318\n"
          ],
          "name": "stdout"
        }
      ]
    }
  ]
}