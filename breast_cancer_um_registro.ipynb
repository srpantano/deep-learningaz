{
  "nbformat": 4,
  "nbformat_minor": 0,
  "metadata": {
    "colab": {
      "name": "breast_cancer_um_registro.ipynb",
      "version": "0.3.2",
      "provenance": [],
      "collapsed_sections": [],
      "include_colab_link": true
    },
    "kernelspec": {
      "name": "python3",
      "display_name": "Python 3"
    }
  },
  "cells": [
    {
      "cell_type": "markdown",
      "metadata": {
        "id": "view-in-github",
        "colab_type": "text"
      },
      "source": [
        "<a href=\"https://colab.research.google.com/github/srpantano/deep-learningaz/blob/master/breast_cancer_um_registro.ipynb\" target=\"_parent\"><img src=\"https://colab.research.google.com/assets/colab-badge.svg\" alt=\"Open In Colab\"/></a>"
      ]
    },
    {
      "cell_type": "markdown",
      "metadata": {
        "id": "0X336QbZOJ4S",
        "colab_type": "text"
      },
      "source": [
        ">## Esse modelo utiliza hyperparâmetros realizados no tunning\n",
        "[breast_cancer_tuning](https://github.com/srpantano/deep-learningaz/blob/master/breast_cancer_tuning.ipynb)"
      ]
    },
    {
      "cell_type": "code",
      "metadata": {
        "id": "y_G9J7xFIA2O",
        "colab_type": "code",
        "colab": {}
      },
      "source": [
        "import numpy as np\n",
        "import pandas as pd\n",
        "import keras\n",
        "from keras.models import Sequential\n",
        "from keras.layers import Dense, Dropout"
      ],
      "execution_count": 0,
      "outputs": []
    },
    {
      "cell_type": "code",
      "metadata": {
        "id": "sx6KOryMINjv",
        "colab_type": "code",
        "colab": {}
      },
      "source": [
        "X = pd.read_csv('https://raw.githubusercontent.com/srpantano/Learnpath/master/entradas-breast.csv')\n",
        "y = pd.read_csv('https://raw.githubusercontent.com/srpantano/Learnpath/master/saidas-breast.csv')"
      ],
      "execution_count": 0,
      "outputs": []
    },
    {
      "cell_type": "code",
      "metadata": {
        "id": "38984GSTIOr4",
        "colab_type": "code",
        "colab": {}
      },
      "source": [
        "classifier = Sequential()\n",
        "classifier.add(Dense(units = 16, activation='relu', \n",
        "                     kernel_initializer='random_uniform', input_dim = 30))\n",
        "  \n",
        "#classifier.add(Dropout(0.2))\n",
        "  \n",
        "classifier.add(Dense(units = 16, activation='relu', \n",
        "                     kernel_initializer='random_uniform'))\n",
        "  \n",
        "#classifier.add(Dropout(0.2))\n",
        "  \n",
        "classifier.add(Dense(units = 1, activation = 'sigmoid'))\n",
        "\n",
        "classifier.compile(optimizer = 'adam', loss = 'binary_crossentropy', \n",
        "                   metrics = ['binary_accuracy'])\n",
        "  \n",
        "classifier.fit(X, y, batch_size = 30, epochs = 100)"
      ],
      "execution_count": 0,
      "outputs": []
    },
    {
      "cell_type": "markdown",
      "metadata": {
        "id": "4DXWHwKWo4J5",
        "colab_type": "text"
      },
      "source": [
        ">## Inclui um novo registro de dados para verficar o tumor"
      ]
    },
    {
      "cell_type": "code",
      "metadata": {
        "id": "D5s8VOegK928",
        "colab_type": "code",
        "colab": {}
      },
      "source": [
        "newRecord = np.array([[15.8, 8.34, 118, 900, 0.10, 0.26, 0.08, 0.134, 0.178, 0.20, \n",
        "                       0.05, 1098, 0.87, 4500, 145.2, 0.005, 0.04, 0.05, 0.015, 0.03, \n",
        "                       0.007, 23.15, 16.64, 178.5, 2018, 0.14, 0.185, 0.84, 158, 0.363]])"
      ],
      "execution_count": 0,
      "outputs": []
    },
    {
      "cell_type": "markdown",
      "metadata": {
        "id": "10HaZ2C8pWgW",
        "colab_type": "text"
      },
      "source": [
        ">## Faz a predição se o tumor é malígno ou não"
      ]
    },
    {
      "cell_type": "code",
      "metadata": {
        "id": "Eip9ERZdLjws",
        "colab_type": "code",
        "colab": {}
      },
      "source": [
        "preview = classifier.predict(newRecord)\n",
        "preview = (preview > 0.5)\n",
        "print(preview)"
      ],
      "execution_count": 0,
      "outputs": []
    },
    {
      "cell_type": "markdown",
      "metadata": {
        "id": "dx9mJ1sjplsA",
        "colab_type": "text"
      },
      "source": [
        ">## Salva o modelo e os pesos em disco"
      ]
    },
    {
      "cell_type": "code",
      "metadata": {
        "id": "Z3Hdd-fsppKC",
        "colab_type": "code",
        "colab": {}
      },
      "source": [
        "classifier_json = classifier.to_json() # Salva os hyperparâmetros\n",
        "with open('breast_classifier.json', 'w') as json_file: json_file.write(classifier_json)\n",
        "  \n",
        "classifier.save_weights('breast_classifier_weights.h5') # Salva os pesos"
      ],
      "execution_count": 0,
      "outputs": []
    },
    {
      "cell_type": "code",
      "metadata": {
        "id": "IKGvZoDvsgUZ",
        "colab_type": "code",
        "colab": {}
      },
      "source": [
        "print(classifier_json)"
      ],
      "execution_count": 0,
      "outputs": []
    },
    {
      "cell_type": "markdown",
      "metadata": {
        "id": "gM3qmecfqcVH",
        "colab_type": "text"
      },
      "source": [
        ">## Lê o modelo e os pesos salvos"
      ]
    },
    {
      "cell_type": "code",
      "metadata": {
        "id": "gRRZPwODqqY4",
        "colab_type": "code",
        "colab": {}
      },
      "source": [
        "from keras.models import model_from_json\n",
        "file = open('breast_classifier.json', 'r')\n",
        "model_structure = file.read() #Lê a estrutura da rede neural\n",
        "file.close() #Fecha o arquivo, para fins de liberação de memória\n",
        "\n",
        "classifier = model_from_json(model_structure) #Carrega a estrutura da rede neural\n",
        "classifier.load_weights('breast_classifier_weights.h5')"
      ],
      "execution_count": 0,
      "outputs": []
    }
  ]
}