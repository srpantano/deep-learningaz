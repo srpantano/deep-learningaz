{
  "nbformat": 4,
  "nbformat_minor": 0,
  "metadata": {
    "colab": {
      "name": "breast_cancer_um_registro.ipynb",
      "version": "0.3.2",
      "provenance": [],
      "collapsed_sections": [],
      "include_colab_link": true
    },
    "kernelspec": {
      "name": "python3",
      "display_name": "Python 3"
    }
  },
  "cells": [
    {
      "cell_type": "markdown",
      "metadata": {
        "id": "view-in-github",
        "colab_type": "text"
      },
      "source": [
        "<a href=\"https://colab.research.google.com/github/srpantano/deep-learningaz/blob/master/breast_cancer_um_registro.ipynb\" target=\"_parent\"><img src=\"https://colab.research.google.com/assets/colab-badge.svg\" alt=\"Open In Colab\"/></a>"
      ]
    },
    {
      "cell_type": "markdown",
      "metadata": {
        "id": "0X336QbZOJ4S",
        "colab_type": "text"
      },
      "source": [
        ">## Esse modelo utiliza hyperparâmetros realizados no tunning\n",
        "[breast_cancer_tuning](https://github.com/srpantano/deep-learningaz/blob/master/breast_cancer_tuning.ipynb)"
      ]
    },
    {
      "cell_type": "code",
      "metadata": {
        "id": "y_G9J7xFIA2O",
        "colab_type": "code",
        "colab": {}
      },
      "source": [
        "import numpy as np\n",
        "import pandas as pd\n",
        "import keras\n",
        "from keras.models import Sequential\n",
        "from keras.layers import Dense, Dropout"
      ],
      "execution_count": 0,
      "outputs": []
    },
    {
      "cell_type": "code",
      "metadata": {
        "id": "sx6KOryMINjv",
        "colab_type": "code",
        "colab": {}
      },
      "source": [
        "X = pd.read_csv('https://raw.githubusercontent.com/srpantano/Learnpath/master/entradas-breast.csv')\n",
        "y = pd.read_csv('https://raw.githubusercontent.com/srpantano/Learnpath/master/saidas-breast.csv')"
      ],
      "execution_count": 0,
      "outputs": []
    },
    {
      "cell_type": "code",
      "metadata": {
        "id": "38984GSTIOr4",
        "colab_type": "code",
        "outputId": "172d20b6-51c4-4312-96be-4176754eedff",
        "colab": {
          "base_uri": "https://localhost:8080/",
          "height": 3590
        }
      },
      "source": [
        "classifier = Sequential()\n",
        "classifier.add(Dense(units = 16, activation='relu', \n",
        "                     kernel_initializer='random_uniform', input_dim = 30))\n",
        "  \n",
        "#classifier.add(Dropout(0.2))\n",
        "  \n",
        "classifier.add(Dense(units = 16, activation='relu', \n",
        "                     kernel_initializer='random_uniform'))\n",
        "  \n",
        "#classifier.add(Dropout(0.2))\n",
        "  \n",
        "classifier.add(Dense(units = 1, activation = 'sigmoid'))\n",
        "\n",
        "classifier.compile(optimizer = 'adam', loss = 'binary_crossentropy', \n",
        "                   metrics = ['binary_accuracy'])\n",
        "  \n",
        "classifier.fit(X, y, batch_size = 30, epochs = 100)"
      ],
      "execution_count": 50,
      "outputs": [
        {
          "output_type": "stream",
          "text": [
            "Epoch 1/100\n",
            "569/569 [==============================] - 2s 3ms/step - loss: 0.5692 - binary_accuracy: 0.6485\n",
            "Epoch 2/100\n",
            "569/569 [==============================] - 0s 55us/step - loss: 0.5186 - binary_accuracy: 0.6520\n",
            "Epoch 3/100\n",
            "569/569 [==============================] - 0s 56us/step - loss: 0.4939 - binary_accuracy: 0.6731\n",
            "Epoch 4/100\n",
            "569/569 [==============================] - 0s 54us/step - loss: 0.4760 - binary_accuracy: 0.6731\n",
            "Epoch 5/100\n",
            "569/569 [==============================] - 0s 53us/step - loss: 0.4524 - binary_accuracy: 0.7030\n",
            "Epoch 6/100\n",
            "569/569 [==============================] - 0s 52us/step - loss: 0.4432 - binary_accuracy: 0.7557\n",
            "Epoch 7/100\n",
            "569/569 [==============================] - 0s 59us/step - loss: 0.4223 - binary_accuracy: 0.8207\n",
            "Epoch 8/100\n",
            "569/569 [==============================] - 0s 60us/step - loss: 0.4006 - binary_accuracy: 0.8207\n",
            "Epoch 9/100\n",
            "569/569 [==============================] - 0s 52us/step - loss: 0.3814 - binary_accuracy: 0.8418\n",
            "Epoch 10/100\n",
            "569/569 [==============================] - 0s 64us/step - loss: 0.3448 - binary_accuracy: 0.8647\n",
            "Epoch 11/100\n",
            "569/569 [==============================] - 0s 53us/step - loss: 0.2948 - binary_accuracy: 0.8910\n",
            "Epoch 12/100\n",
            "569/569 [==============================] - 0s 55us/step - loss: 0.2964 - binary_accuracy: 0.8805\n",
            "Epoch 13/100\n",
            "569/569 [==============================] - 0s 56us/step - loss: 0.2703 - binary_accuracy: 0.8805\n",
            "Epoch 14/100\n",
            "569/569 [==============================] - 0s 53us/step - loss: 0.2751 - binary_accuracy: 0.8805\n",
            "Epoch 15/100\n",
            "569/569 [==============================] - 0s 60us/step - loss: 0.2642 - binary_accuracy: 0.8893\n",
            "Epoch 16/100\n",
            "569/569 [==============================] - 0s 55us/step - loss: 0.2366 - binary_accuracy: 0.9104\n",
            "Epoch 17/100\n",
            "569/569 [==============================] - 0s 60us/step - loss: 0.2216 - binary_accuracy: 0.9139\n",
            "Epoch 18/100\n",
            "569/569 [==============================] - 0s 52us/step - loss: 0.2034 - binary_accuracy: 0.9227\n",
            "Epoch 19/100\n",
            "569/569 [==============================] - 0s 55us/step - loss: 0.2045 - binary_accuracy: 0.9104\n",
            "Epoch 20/100\n",
            "569/569 [==============================] - 0s 62us/step - loss: 0.1956 - binary_accuracy: 0.9156\n",
            "Epoch 21/100\n",
            "569/569 [==============================] - 0s 55us/step - loss: 0.1945 - binary_accuracy: 0.9192\n",
            "Epoch 22/100\n",
            "569/569 [==============================] - 0s 56us/step - loss: 0.1919 - binary_accuracy: 0.9297\n",
            "Epoch 23/100\n",
            "569/569 [==============================] - 0s 55us/step - loss: 0.1925 - binary_accuracy: 0.9244\n",
            "Epoch 24/100\n",
            "569/569 [==============================] - 0s 52us/step - loss: 0.1861 - binary_accuracy: 0.9262\n",
            "Epoch 25/100\n",
            "569/569 [==============================] - 0s 53us/step - loss: 0.1971 - binary_accuracy: 0.9227\n",
            "Epoch 26/100\n",
            "569/569 [==============================] - 0s 56us/step - loss: 0.1935 - binary_accuracy: 0.9192\n",
            "Epoch 27/100\n",
            "569/569 [==============================] - 0s 59us/step - loss: 0.2098 - binary_accuracy: 0.9086\n",
            "Epoch 28/100\n",
            "569/569 [==============================] - 0s 55us/step - loss: 0.2172 - binary_accuracy: 0.9016\n",
            "Epoch 29/100\n",
            "569/569 [==============================] - 0s 55us/step - loss: 0.1596 - binary_accuracy: 0.9350\n",
            "Epoch 30/100\n",
            "569/569 [==============================] - 0s 55us/step - loss: 0.1576 - binary_accuracy: 0.9297\n",
            "Epoch 31/100\n",
            "569/569 [==============================] - 0s 56us/step - loss: 0.1620 - binary_accuracy: 0.9279\n",
            "Epoch 32/100\n",
            "569/569 [==============================] - 0s 54us/step - loss: 0.1623 - binary_accuracy: 0.9350\n",
            "Epoch 33/100\n",
            "569/569 [==============================] - 0s 58us/step - loss: 0.1579 - binary_accuracy: 0.9385\n",
            "Epoch 34/100\n",
            "569/569 [==============================] - 0s 64us/step - loss: 0.1874 - binary_accuracy: 0.9227\n",
            "Epoch 35/100\n",
            "569/569 [==============================] - 0s 55us/step - loss: 0.2121 - binary_accuracy: 0.9104\n",
            "Epoch 36/100\n",
            "569/569 [==============================] - 0s 53us/step - loss: 0.1545 - binary_accuracy: 0.9402\n",
            "Epoch 37/100\n",
            "569/569 [==============================] - 0s 56us/step - loss: 0.1441 - binary_accuracy: 0.9420\n",
            "Epoch 38/100\n",
            "569/569 [==============================] - 0s 55us/step - loss: 0.1704 - binary_accuracy: 0.9367\n",
            "Epoch 39/100\n",
            "569/569 [==============================] - 0s 61us/step - loss: 0.1941 - binary_accuracy: 0.9033\n",
            "Epoch 40/100\n",
            "569/569 [==============================] - 0s 54us/step - loss: 0.1530 - binary_accuracy: 0.9367\n",
            "Epoch 41/100\n",
            "569/569 [==============================] - 0s 66us/step - loss: 0.1671 - binary_accuracy: 0.9297\n",
            "Epoch 42/100\n",
            "569/569 [==============================] - 0s 59us/step - loss: 0.1499 - binary_accuracy: 0.9367\n",
            "Epoch 43/100\n",
            "569/569 [==============================] - 0s 55us/step - loss: 0.1579 - binary_accuracy: 0.9332\n",
            "Epoch 44/100\n",
            "569/569 [==============================] - 0s 56us/step - loss: 0.1703 - binary_accuracy: 0.9315\n",
            "Epoch 45/100\n",
            "569/569 [==============================] - 0s 71us/step - loss: 0.1433 - binary_accuracy: 0.9332\n",
            "Epoch 46/100\n",
            "569/569 [==============================] - 0s 53us/step - loss: 0.1525 - binary_accuracy: 0.9350\n",
            "Epoch 47/100\n",
            "569/569 [==============================] - 0s 58us/step - loss: 0.1573 - binary_accuracy: 0.9315\n",
            "Epoch 48/100\n",
            "569/569 [==============================] - 0s 57us/step - loss: 0.1464 - binary_accuracy: 0.9279\n",
            "Epoch 49/100\n",
            "569/569 [==============================] - 0s 55us/step - loss: 0.1416 - binary_accuracy: 0.9402\n",
            "Epoch 50/100\n",
            "569/569 [==============================] - 0s 58us/step - loss: 0.1941 - binary_accuracy: 0.9279\n",
            "Epoch 51/100\n",
            "569/569 [==============================] - 0s 55us/step - loss: 0.1418 - binary_accuracy: 0.9420\n",
            "Epoch 52/100\n",
            "569/569 [==============================] - 0s 57us/step - loss: 0.1460 - binary_accuracy: 0.9420\n",
            "Epoch 53/100\n",
            "569/569 [==============================] - 0s 52us/step - loss: 0.1418 - binary_accuracy: 0.9402\n",
            "Epoch 54/100\n",
            "569/569 [==============================] - 0s 60us/step - loss: 0.1238 - binary_accuracy: 0.9490\n",
            "Epoch 55/100\n",
            "569/569 [==============================] - 0s 56us/step - loss: 0.1250 - binary_accuracy: 0.9438\n",
            "Epoch 56/100\n",
            "569/569 [==============================] - 0s 54us/step - loss: 0.1356 - binary_accuracy: 0.9385\n",
            "Epoch 57/100\n",
            "569/569 [==============================] - 0s 54us/step - loss: 0.1372 - binary_accuracy: 0.9385\n",
            "Epoch 58/100\n",
            "569/569 [==============================] - 0s 55us/step - loss: 0.1829 - binary_accuracy: 0.9279\n",
            "Epoch 59/100\n",
            "569/569 [==============================] - 0s 64us/step - loss: 0.1349 - binary_accuracy: 0.9420\n",
            "Epoch 60/100\n",
            "569/569 [==============================] - 0s 58us/step - loss: 0.1164 - binary_accuracy: 0.9508\n",
            "Epoch 61/100\n",
            "569/569 [==============================] - 0s 56us/step - loss: 0.1267 - binary_accuracy: 0.9473\n",
            "Epoch 62/100\n",
            "569/569 [==============================] - 0s 52us/step - loss: 0.1222 - binary_accuracy: 0.9420\n",
            "Epoch 63/100\n",
            "569/569 [==============================] - 0s 55us/step - loss: 0.1185 - binary_accuracy: 0.9543\n",
            "Epoch 64/100\n",
            "569/569 [==============================] - 0s 53us/step - loss: 0.1099 - binary_accuracy: 0.9490\n",
            "Epoch 65/100\n",
            "569/569 [==============================] - 0s 53us/step - loss: 0.1249 - binary_accuracy: 0.9420\n",
            "Epoch 66/100\n",
            "569/569 [==============================] - 0s 63us/step - loss: 0.1185 - binary_accuracy: 0.9490\n",
            "Epoch 67/100\n",
            "569/569 [==============================] - 0s 55us/step - loss: 0.1200 - binary_accuracy: 0.9420\n",
            "Epoch 68/100\n",
            "569/569 [==============================] - 0s 57us/step - loss: 0.1199 - binary_accuracy: 0.9402\n",
            "Epoch 69/100\n",
            "569/569 [==============================] - 0s 55us/step - loss: 0.1178 - binary_accuracy: 0.9402\n",
            "Epoch 70/100\n",
            "569/569 [==============================] - 0s 52us/step - loss: 0.1142 - binary_accuracy: 0.9455\n",
            "Epoch 71/100\n",
            "569/569 [==============================] - 0s 54us/step - loss: 0.1241 - binary_accuracy: 0.9473\n",
            "Epoch 72/100\n",
            "569/569 [==============================] - 0s 55us/step - loss: 0.1252 - binary_accuracy: 0.9525\n",
            "Epoch 73/100\n",
            "569/569 [==============================] - 0s 52us/step - loss: 0.1460 - binary_accuracy: 0.9420\n",
            "Epoch 74/100\n",
            "569/569 [==============================] - 0s 54us/step - loss: 0.1041 - binary_accuracy: 0.9455\n",
            "Epoch 75/100\n",
            "569/569 [==============================] - 0s 56us/step - loss: 0.1015 - binary_accuracy: 0.9596\n",
            "Epoch 76/100\n",
            "569/569 [==============================] - 0s 59us/step - loss: 0.1007 - binary_accuracy: 0.9561\n",
            "Epoch 77/100\n",
            "569/569 [==============================] - 0s 53us/step - loss: 0.1034 - binary_accuracy: 0.9543\n",
            "Epoch 78/100\n",
            "569/569 [==============================] - 0s 57us/step - loss: 0.1242 - binary_accuracy: 0.9473\n",
            "Epoch 79/100\n",
            "569/569 [==============================] - 0s 54us/step - loss: 0.1048 - binary_accuracy: 0.9508\n",
            "Epoch 80/100\n",
            "569/569 [==============================] - 0s 58us/step - loss: 0.1034 - binary_accuracy: 0.9473\n",
            "Epoch 81/100\n",
            "569/569 [==============================] - 0s 58us/step - loss: 0.1240 - binary_accuracy: 0.9455\n",
            "Epoch 82/100\n",
            "569/569 [==============================] - 0s 57us/step - loss: 0.1376 - binary_accuracy: 0.9367\n",
            "Epoch 83/100\n",
            "569/569 [==============================] - 0s 54us/step - loss: 0.1028 - binary_accuracy: 0.9578\n",
            "Epoch 84/100\n",
            "569/569 [==============================] - 0s 56us/step - loss: 0.1017 - binary_accuracy: 0.9613\n",
            "Epoch 85/100\n",
            "569/569 [==============================] - 0s 57us/step - loss: 0.1354 - binary_accuracy: 0.9420\n",
            "Epoch 86/100\n",
            "569/569 [==============================] - 0s 53us/step - loss: 0.1176 - binary_accuracy: 0.9473\n",
            "Epoch 87/100\n",
            "569/569 [==============================] - 0s 56us/step - loss: 0.1051 - binary_accuracy: 0.9596\n",
            "Epoch 88/100\n",
            "569/569 [==============================] - 0s 57us/step - loss: 0.0934 - binary_accuracy: 0.9578\n",
            "Epoch 89/100\n",
            "569/569 [==============================] - 0s 64us/step - loss: 0.0900 - binary_accuracy: 0.9596\n",
            "Epoch 90/100\n",
            "569/569 [==============================] - 0s 56us/step - loss: 0.0943 - binary_accuracy: 0.9578\n",
            "Epoch 91/100\n",
            "569/569 [==============================] - 0s 54us/step - loss: 0.1330 - binary_accuracy: 0.9420\n",
            "Epoch 92/100\n",
            "569/569 [==============================] - 0s 63us/step - loss: 0.1125 - binary_accuracy: 0.9525\n",
            "Epoch 93/100\n",
            "569/569 [==============================] - 0s 54us/step - loss: 0.0971 - binary_accuracy: 0.9543\n",
            "Epoch 94/100\n",
            "569/569 [==============================] - 0s 53us/step - loss: 0.1306 - binary_accuracy: 0.9438\n",
            "Epoch 95/100\n",
            "569/569 [==============================] - 0s 57us/step - loss: 0.1132 - binary_accuracy: 0.9438\n",
            "Epoch 96/100\n",
            "569/569 [==============================] - 0s 59us/step - loss: 0.1093 - binary_accuracy: 0.9508\n",
            "Epoch 97/100\n",
            "569/569 [==============================] - 0s 58us/step - loss: 0.0934 - binary_accuracy: 0.9631\n",
            "Epoch 98/100\n",
            "569/569 [==============================] - 0s 56us/step - loss: 0.0961 - binary_accuracy: 0.9508\n",
            "Epoch 99/100\n",
            "569/569 [==============================] - 0s 53us/step - loss: 0.0826 - binary_accuracy: 0.9613\n",
            "Epoch 100/100\n",
            "569/569 [==============================] - 0s 54us/step - loss: 0.0918 - binary_accuracy: 0.9631\n"
          ],
          "name": "stdout"
        },
        {
          "output_type": "execute_result",
          "data": {
            "text/plain": [
              "<keras.callbacks.History at 0x7fc34e0c51d0>"
            ]
          },
          "metadata": {
            "tags": []
          },
          "execution_count": 50
        }
      ]
    },
    {
      "cell_type": "markdown",
      "metadata": {
        "id": "4DXWHwKWo4J5",
        "colab_type": "text"
      },
      "source": [
        ">## Inclui um novo registro de dados para verficar o tumor"
      ]
    },
    {
      "cell_type": "code",
      "metadata": {
        "id": "D5s8VOegK928",
        "colab_type": "code",
        "colab": {}
      },
      "source": [
        "newRecord = np.array([[15.8, 8.34, 118, 900, 0.10, 0.26, 0.08, 0.134, 0.178, 0.20, \n",
        "                       0.05, 1098, 0.87, 4500, 145.2, 0.005, 0.04, 0.05, 0.015, 0.03, \n",
        "                       0.007, 23.15, 16.64, 178.5, 2018, 0.14, 0.185, 0.84, 158, 0.363]])"
      ],
      "execution_count": 0,
      "outputs": []
    },
    {
      "cell_type": "markdown",
      "metadata": {
        "id": "10HaZ2C8pWgW",
        "colab_type": "text"
      },
      "source": [
        ">## Faz a predição se o tumor é malígno ou não"
      ]
    },
    {
      "cell_type": "code",
      "metadata": {
        "id": "Eip9ERZdLjws",
        "colab_type": "code",
        "outputId": "234ce3ec-9289-46c3-f798-d82d69d04152",
        "colab": {
          "base_uri": "https://localhost:8080/",
          "height": 34
        }
      },
      "source": [
        "preview = classifier.predict(newRecord)\n",
        "#preview = (preview > 0.5)\n",
        "print(preview)"
      ],
      "execution_count": 53,
      "outputs": [
        {
          "output_type": "stream",
          "text": [
            "[[1.]]\n"
          ],
          "name": "stdout"
        }
      ]
    },
    {
      "cell_type": "markdown",
      "metadata": {
        "id": "dx9mJ1sjplsA",
        "colab_type": "text"
      },
      "source": [
        ">## Salva o modelo e os pesos em disco"
      ]
    },
    {
      "cell_type": "code",
      "metadata": {
        "id": "Z3Hdd-fsppKC",
        "colab_type": "code",
        "colab": {}
      },
      "source": [
        "classifier_json = classifier.to_json() # Salva os hyperparâmetros\n",
        "with open('breast_classifier.json', 'w') as json_file: json_file.write(classifier_json)\n",
        "  \n",
        "classifier.save_weights('breast_classifier_weights.h5') # Salva os pesos"
      ],
      "execution_count": 0,
      "outputs": []
    },
    {
      "cell_type": "code",
      "metadata": {
        "id": "IKGvZoDvsgUZ",
        "colab_type": "code",
        "outputId": "47dfc9a3-c3a1-4f52-835c-fdb88910d324",
        "colab": {
          "base_uri": "https://localhost:8080/",
          "height": 54
        }
      },
      "source": [
        "print(classifier_json)"
      ],
      "execution_count": 0,
      "outputs": [
        {
          "output_type": "stream",
          "text": [
            "{\"class_name\": \"Sequential\", \"config\": {\"name\": \"sequential_5\", \"layers\": [{\"class_name\": \"Dense\", \"config\": {\"name\": \"dense_7\", \"trainable\": true, \"batch_input_shape\": [null, 30], \"dtype\": \"float32\", \"units\": 16, \"activation\": \"tanh\", \"use_bias\": true, \"kernel_initializer\": {\"class_name\": \"RandomUniform\", \"config\": {\"minval\": -0.05, \"maxval\": 0.05, \"seed\": null}}, \"bias_initializer\": {\"class_name\": \"Zeros\", \"config\": {}}, \"kernel_regularizer\": null, \"bias_regularizer\": null, \"activity_regularizer\": null, \"kernel_constraint\": null, \"bias_constraint\": null}}, {\"class_name\": \"Dropout\", \"config\": {\"name\": \"dropout_5\", \"trainable\": true, \"rate\": 0.2, \"noise_shape\": null, \"seed\": null}}, {\"class_name\": \"Dense\", \"config\": {\"name\": \"dense_8\", \"trainable\": true, \"units\": 16, \"activation\": \"tanh\", \"use_bias\": true, \"kernel_initializer\": {\"class_name\": \"RandomUniform\", \"config\": {\"minval\": -0.05, \"maxval\": 0.05, \"seed\": null}}, \"bias_initializer\": {\"class_name\": \"Zeros\", \"config\": {}}, \"kernel_regularizer\": null, \"bias_regularizer\": null, \"activity_regularizer\": null, \"kernel_constraint\": null, \"bias_constraint\": null}}, {\"class_name\": \"Dropout\", \"config\": {\"name\": \"dropout_6\", \"trainable\": true, \"rate\": 0.2, \"noise_shape\": null, \"seed\": null}}, {\"class_name\": \"Dense\", \"config\": {\"name\": \"dense_9\", \"trainable\": true, \"units\": 1, \"activation\": \"sigmoid\", \"use_bias\": true, \"kernel_initializer\": {\"class_name\": \"VarianceScaling\", \"config\": {\"scale\": 1.0, \"mode\": \"fan_avg\", \"distribution\": \"uniform\", \"seed\": null}}, \"bias_initializer\": {\"class_name\": \"Zeros\", \"config\": {}}, \"kernel_regularizer\": null, \"bias_regularizer\": null, \"activity_regularizer\": null, \"kernel_constraint\": null, \"bias_constraint\": null}}]}, \"keras_version\": \"2.2.4\", \"backend\": \"tensorflow\"}\n"
          ],
          "name": "stdout"
        }
      ]
    },
    {
      "cell_type": "markdown",
      "metadata": {
        "id": "gM3qmecfqcVH",
        "colab_type": "text"
      },
      "source": [
        ">## Lê o modelo e os pesos salvos"
      ]
    },
    {
      "cell_type": "code",
      "metadata": {
        "id": "gRRZPwODqqY4",
        "colab_type": "code",
        "colab": {}
      },
      "source": [
        "from keras.models import model_from_json\n",
        "file = open('breast_classifier.json', 'r')\n",
        "model_structure = file.read() #Lê a estrutura da rede neural\n",
        "file.close() #Fecha o arquivo, para fins de liberação de memória\n",
        "\n",
        "classifier = model_from_json(model_structure) #Carrega a estrutura da rede neural\n",
        "classifier.load_weights('breast_classifier_weights.h5')"
      ],
      "execution_count": 0,
      "outputs": []
    }
  ]
}