{
  "nbformat": 4,
  "nbformat_minor": 0,
  "metadata": {
    "colab": {
      "name": "autos_regressao_um_valor.ipynb",
      "version": "0.3.2",
      "provenance": [],
      "collapsed_sections": [],
      "include_colab_link": true
    },
    "kernelspec": {
      "name": "python3",
      "display_name": "Python 3"
    },
    "accelerator": "GPU"
  },
  "cells": [
    {
      "cell_type": "markdown",
      "metadata": {
        "id": "view-in-github",
        "colab_type": "text"
      },
      "source": [
        "<a href=\"https://colab.research.google.com/github/srpantano/deep-learningaz/blob/master/autos_regressao_um_valor.ipynb\" target=\"_parent\"><img src=\"https://colab.research.google.com/assets/colab-badge.svg\" alt=\"Open In Colab\"/></a>"
      ]
    },
    {
      "cell_type": "markdown",
      "metadata": {
        "id": "0y1bZOCucj62",
        "colab_type": "text"
      },
      "source": [
        "### Lê o dataset a partir do Kaggle\n",
        "Importate importar antes da chave de API (arquivo json)"
      ]
    },
    {
      "cell_type": "code",
      "metadata": {
        "id": "3Nmoafc65Sba",
        "colab_type": "code",
        "colab": {}
      },
      "source": [
        "from google.colab import files\n",
        "\n",
        "!pip install -q kaggle"
      ],
      "execution_count": 0,
      "outputs": []
    },
    {
      "cell_type": "code",
      "metadata": {
        "id": "1c-4Va0KPChT",
        "colab_type": "code",
        "colab": {}
      },
      "source": [
        "!cp kaggle.json ~/.kaggle/"
      ],
      "execution_count": 0,
      "outputs": []
    },
    {
      "cell_type": "code",
      "metadata": {
        "id": "LmBG8jy-5nul",
        "colab_type": "code",
        "outputId": "84afbee1-ecfb-4d4d-e6cd-f427947ca9f0",
        "colab": {
          "base_uri": "https://localhost:8080/",
          "height": 85
        }
      },
      "source": [
        "!kaggle datasets download -d orgesleka/used-cars-database"
      ],
      "execution_count": 7,
      "outputs": [
        {
          "output_type": "stream",
          "text": [
            "Warning: Your Kaggle API key is readable by other users on this system! To fix this, you can run 'chmod 600 /root/.kaggle/kaggle.json'\n",
            "Downloading used-cars-database.zip to /content\n",
            " 94% 17.0M/18.0M [00:00<00:00, 21.4MB/s]\n",
            "100% 18.0M/18.0M [00:00<00:00, 40.7MB/s]\n"
          ],
          "name": "stdout"
        }
      ]
    },
    {
      "cell_type": "code",
      "metadata": {
        "id": "tm52T493TwJc",
        "colab_type": "code",
        "outputId": "c5e7ba06-0d12-47b5-d8f5-5e90644e7170",
        "colab": {
          "base_uri": "https://localhost:8080/",
          "height": 34
        }
      },
      "source": [
        "!pwd"
      ],
      "execution_count": 8,
      "outputs": [
        {
          "output_type": "stream",
          "text": [
            "/content\n"
          ],
          "name": "stdout"
        }
      ]
    },
    {
      "cell_type": "code",
      "metadata": {
        "id": "82XPjqrHV-cr",
        "colab_type": "code",
        "outputId": "e70eaedf-1d75-4f66-d271-7d9691733aad",
        "colab": {
          "base_uri": "https://localhost:8080/",
          "height": 34
        }
      },
      "source": [
        "import zipfile\n",
        "\n",
        "file = zipfile.ZipFile('used-cars-database.zip', 'r') \n",
        "file.extract('autos.csv')"
      ],
      "execution_count": 29,
      "outputs": [
        {
          "output_type": "execute_result",
          "data": {
            "text/plain": [
              "'/content/autos.csv'"
            ]
          },
          "metadata": {
            "tags": []
          },
          "execution_count": 29
        }
      ]
    },
    {
      "cell_type": "code",
      "metadata": {
        "id": "m1r6haeGWdBU",
        "colab_type": "code",
        "colab": {}
      },
      "source": [
        "import pandas as pd\n",
        "train_dataset = pd.read_csv('autos.csv', encoding='ISO-8859-1')"
      ],
      "execution_count": 0,
      "outputs": []
    },
    {
      "cell_type": "code",
      "metadata": {
        "id": "hD57OfKNaL8w",
        "colab_type": "code",
        "colab": {}
      },
      "source": [
        "#display(train_dataset)"
      ],
      "execution_count": 0,
      "outputs": []
    },
    {
      "cell_type": "markdown",
      "metadata": {
        "id": "VH9UDAZRcDJT",
        "colab_type": "text"
      },
      "source": [
        "### Remove colunas da tabela"
      ]
    },
    {
      "cell_type": "code",
      "metadata": {
        "id": "DRHQOifEbmHu",
        "colab_type": "code",
        "colab": {}
      },
      "source": [
        "train_dataset = train_dataset.drop('dateCrawled', axis = 1) # axis=1 apaga a coluna inteira\n",
        "train_dataset = train_dataset.drop('dateCreated', axis = 1)\n",
        "train_dataset = train_dataset.drop('nrOfPictures', axis = 1)\n",
        "train_dataset = train_dataset.drop('postalCode', axis = 1)\n",
        "train_dataset = train_dataset.drop('lastSeen', axis = 1)"
      ],
      "execution_count": 0,
      "outputs": []
    },
    {
      "cell_type": "markdown",
      "metadata": {
        "id": "-W6hQ15FdHoY",
        "colab_type": "text"
      },
      "source": [
        "### Conta as ocorrências"
      ]
    },
    {
      "cell_type": "code",
      "metadata": {
        "id": "M2XWuhX2c6nl",
        "colab_type": "code",
        "colab": {}
      },
      "source": [
        "train_dataset['name'].value_counts()"
      ],
      "execution_count": 0,
      "outputs": []
    },
    {
      "cell_type": "code",
      "metadata": {
        "id": "1Hk0g5C3dbXf",
        "colab_type": "code",
        "colab": {}
      },
      "source": [
        "train_dataset = train_dataset.drop('name', axis = 1) # Muitos dados distintos (variabilidade), sem significado\n",
        "train_dataset = train_dataset.drop('seller', axis = 1)\n",
        "train_dataset = train_dataset.drop('offerType', axis = 1)"
      ],
      "execution_count": 0,
      "outputs": []
    },
    {
      "cell_type": "markdown",
      "metadata": {
        "id": "VkOGkT-rxhmc",
        "colab_type": "text"
      },
      "source": [
        "### Tratamento dos dados"
      ]
    },
    {
      "cell_type": "code",
      "metadata": {
        "id": "Baa6UpS7w7qm",
        "colab_type": "code",
        "colab": {}
      },
      "source": [
        "i1 = train_dataset.loc[train_dataset.price <= 10] #Verifica quais automóveis tem o preço abaixo de 10\n",
        "#print(train_dataset.price.mean()) #Exibe a média dos preços\n",
        "train_dataset = train_dataset[train_dataset.price > 10] # Somente os que tem preço acima de 10\n",
        "i1 = train_dataset.loc[train_dataset.price > 350000] #Verifica quais automóveis tem o preço acima de 350k\n",
        "train_dataset = train_dataset[train_dataset.price < 350000]"
      ],
      "execution_count": 0,
      "outputs": []
    },
    {
      "cell_type": "code",
      "metadata": {
        "id": "kMDO8POGm3g-",
        "colab_type": "code",
        "colab": {}
      },
      "source": [
        "#train_dataset.loc[pd.isnull(train_dataset['vehicleType'])]"
      ],
      "execution_count": 0,
      "outputs": []
    },
    {
      "cell_type": "markdown",
      "metadata": {
        "id": "-kQhyopwrOgH",
        "colab_type": "text"
      },
      "source": [
        "### Preenche os nulos\n",
        "\n",
        "\n",
        "\n",
        "1.   Conta as quantidades;\n",
        "2.  Preenche os nulos com os dados mais recorrentes.\n",
        "\n"
      ]
    },
    {
      "cell_type": "code",
      "metadata": {
        "id": "85naWCeJxQUc",
        "colab_type": "code",
        "colab": {}
      },
      "source": [
        "#train_dataset['vehicleType'].value_counts() #Conta os tipos de veículos\n",
        "#train_dataset['gearbox'].value_counts()\n",
        "#train_dataset['model'].value_counts()\n",
        "#train_dataset['fuelType'].value_counts()\n",
        "#train_dataset['notRepairedDamage'].value_counts()"
      ],
      "execution_count": 0,
      "outputs": []
    },
    {
      "cell_type": "code",
      "metadata": {
        "id": "uOz_P8M5qPIF",
        "colab_type": "code",
        "colab": {}
      },
      "source": [
        "# Substitui os nulos com dados mais recorrentes (new_values)\n",
        "new_values = {'vehicleType' : 'limousine', 'gearbox' : 'manuell', 'model' : 'golf', \n",
        "          'fuelType' : 'benzin', 'notRepairedDamage' : 'nein'}\n",
        "train_dataset = train_dataset.fillna(new_values)\n",
        "x_train = train_dataset.iloc[:, 1:13].values #Todas as linhas, nas colunas 1 a 13\n",
        "price_real = train_dataset.iloc[:, 0].values #Todas as linhas, coluna 0"
      ],
      "execution_count": 0,
      "outputs": []
    },
    {
      "cell_type": "code",
      "metadata": {
        "id": "3MvrYpGyRvSt",
        "colab_type": "code",
        "colab": {}
      },
      "source": [
        "from sklearn.preprocessing import LabelEncoder, OneHotEncoder"
      ],
      "execution_count": 0,
      "outputs": []
    },
    {
      "cell_type": "code",
      "metadata": {
        "id": "qvikgqIHSZYj",
        "colab_type": "code",
        "colab": {}
      },
      "source": [
        "labelencoder = LabelEncoder()\n",
        "x_train[:, 0] = labelencoder.fit_transform(x_train[:, 0])\n",
        "x_train[:, 1] = labelencoder.fit_transform(x_train[:, 1])\n",
        "x_train[:, 3] = labelencoder.fit_transform(x_train[:, 3])\n",
        "x_train[:, 5] = labelencoder.fit_transform(x_train[:, 5])\n",
        "x_train[:, 8] = labelencoder.fit_transform(x_train[:, 8])\n",
        "x_train[:, 9] = labelencoder.fit_transform(x_train[:, 9])\n",
        "x_train[:, 10] = labelencoder.fit_transform(x_train[:, 10])"
      ],
      "execution_count": 0,
      "outputs": []
    },
    {
      "cell_type": "code",
      "metadata": {
        "id": "3LzEJHa1S9fj",
        "colab_type": "code",
        "colab": {}
      },
      "source": [
        "x_train[0:20] #vinte primeiros dados"
      ],
      "execution_count": 0,
      "outputs": []
    },
    {
      "cell_type": "markdown",
      "metadata": {
        "id": "zIVjISw1Uoa5",
        "colab_type": "text"
      },
      "source": [
        "### Transforma o que é 0, 1, ... 3 em 0 0 1, 0 ...\n",
        "0 em 1 0 0 0 </br>\n",
        "1 em 0 1 0 0</br>\n",
        "2 em 0 0 1 0</br>\n",
        "3 em 0 0  0 1 </br>"
      ]
    },
    {
      "cell_type": "code",
      "metadata": {
        "id": "g--SBNwxT_JR",
        "colab_type": "code",
        "colab": {
          "base_uri": "https://localhost:8080/",
          "height": 139
        },
        "outputId": "bb0d7aef-6ab8-437f-8142-bde203583e69"
      },
      "source": [
        "onehotencoder = OneHotEncoder(categorical_features = [0,1,3,5,8,9,10])\n",
        "x_train = onehotencoder.fit_transform(x_train).toarray()"
      ],
      "execution_count": 40,
      "outputs": [
        {
          "output_type": "stream",
          "text": [
            "/usr/local/lib/python3.6/dist-packages/sklearn/preprocessing/_encoders.py:415: FutureWarning: The handling of integer data will change in version 0.22. Currently, the categories are determined based on the range [0, max(values)], while in the future they will be determined based on the unique values.\n",
            "If you want the future behaviour and silence this warning, you can specify \"categories='auto'\".\n",
            "In case you used a LabelEncoder before this OneHotEncoder to convert the categories to integers, then you can now use the OneHotEncoder directly.\n",
            "  warnings.warn(msg, FutureWarning)\n",
            "/usr/local/lib/python3.6/dist-packages/sklearn/preprocessing/_encoders.py:451: DeprecationWarning: The 'categorical_features' keyword is deprecated in version 0.20 and will be removed in 0.22. You can use the ColumnTransformer instead.\n",
            "  \"use the ColumnTransformer instead.\", DeprecationWarning)\n"
          ],
          "name": "stderr"
        }
      ]
    },
    {
      "cell_type": "code",
      "metadata": {
        "id": "j1Wq_l8KVrUB",
        "colab_type": "code",
        "colab": {}
      },
      "source": [
        "x_train[0:20, 0:9]"
      ],
      "execution_count": 0,
      "outputs": []
    },
    {
      "cell_type": "code",
      "metadata": {
        "id": "Zf5OJqkAYtqp",
        "colab_type": "code",
        "colab": {}
      },
      "source": [
        "from keras.models import Sequential\n",
        "from keras.layers import Dense"
      ],
      "execution_count": 0,
      "outputs": []
    },
    {
      "cell_type": "code",
      "metadata": {
        "id": "zBH4v0i8Y8I2",
        "colab_type": "code",
        "colab": {}
      },
      "source": [
        "model = Sequential()\n",
        "model.add(Dense(units = 158, activation = 'relu', input_dim = x_train.shape[1]))\n",
        "model.add(Dense(units = 158, activation = 'relu'))\n",
        "model.add(Dense(units = 1, activation = 'linear')) #linear não faz nenhum cálculo\n",
        "model.compile(loss = 'mean_absolute_error', optimizer='adam', metrics=['mean_absolute_error'])"
      ],
      "execution_count": 0,
      "outputs": []
    },
    {
      "cell_type": "code",
      "metadata": {
        "id": "Ex1rwg1v7K7d",
        "colab_type": "code",
        "colab": {
          "base_uri": "https://localhost:8080/",
          "height": 34
        },
        "outputId": "de79b1c7-ea18-40b0-ea4d-5a7c8dcc8d35"
      },
      "source": [
        "x_train.shape"
      ],
      "execution_count": 48,
      "outputs": [
        {
          "output_type": "execute_result",
          "data": {
            "text/plain": [
              "(359291, 316)"
            ]
          },
          "metadata": {
            "tags": []
          },
          "execution_count": 48
        }
      ]
    },
    {
      "cell_type": "code",
      "metadata": {
        "id": "7jUJGdhN7Pjw",
        "colab_type": "code",
        "colab": {
          "base_uri": "https://localhost:8080/",
          "height": 34
        },
        "outputId": "897d0b6f-a493-41fe-b7ba-0d4f705adca9"
      },
      "source": [
        "price_real.shape"
      ],
      "execution_count": 45,
      "outputs": [
        {
          "output_type": "execute_result",
          "data": {
            "text/plain": [
              "(359291,)"
            ]
          },
          "metadata": {
            "tags": []
          },
          "execution_count": 45
        }
      ]
    },
    {
      "cell_type": "code",
      "metadata": {
        "id": "wu8euTuLbJnu",
        "colab_type": "code",
        "colab": {}
      },
      "source": [
        "# O mean_absolute_error indica que ele pode errar em X vezes em euros\n",
        "model.fit(x_train, price_real, batch_size=300, epochs=100) "
      ],
      "execution_count": 0,
      "outputs": []
    },
    {
      "cell_type": "code",
      "metadata": {
        "id": "ffscZq5m-OXF",
        "colab_type": "code",
        "colab": {
          "base_uri": "https://localhost:8080/",
          "height": 51
        },
        "outputId": "c50adca2-449d-4fca-9d1f-2500b595774b"
      },
      "source": [
        "yhat = model.predict(x_train)\n",
        "print(price_real.mean())\n",
        "print(yhat.mean())"
      ],
      "execution_count": 53,
      "outputs": [
        {
          "output_type": "stream",
          "text": [
            "5916.833945186492\n",
            "5714.881\n"
          ],
          "name": "stdout"
        }
      ]
    }
  ]
}