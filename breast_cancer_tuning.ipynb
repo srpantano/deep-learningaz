{
  "nbformat": 4,
  "nbformat_minor": 0,
  "metadata": {
    "colab": {
      "name": "breast_cancer_tuning.ipynb",
      "version": "0.3.2",
      "provenance": [],
      "collapsed_sections": [],
      "include_colab_link": true
    },
    "kernelspec": {
      "name": "python3",
      "display_name": "Python 3"
    },
    "accelerator": "GPU"
  },
  "cells": [
    {
      "cell_type": "markdown",
      "metadata": {
        "id": "view-in-github",
        "colab_type": "text"
      },
      "source": [
        "<a href=\"https://colab.research.google.com/github/srpantano/deep-learningaz/blob/master/breast_cancer_tuning.ipynb\" target=\"_parent\"><img src=\"https://colab.research.google.com/assets/colab-badge.svg\" alt=\"Open In Colab\"/></a>"
      ]
    },
    {
      "cell_type": "markdown",
      "metadata": {
        "id": "F0rInDGNHhC7",
        "colab_type": "text"
      },
      "source": [
        "> ## Importa as bibliotecas"
      ]
    },
    {
      "cell_type": "code",
      "metadata": {
        "id": "Fo-N52k0HOds",
        "colab_type": "code",
        "colab": {}
      },
      "source": [
        "import pandas as pd\n",
        "import keras\n",
        "from keras.models import Sequential\n",
        "from keras.layers import Dense, Dropout\n",
        "from keras.wrappers.scikit_learn import KerasClassifier\n",
        "from sklearn.model_selection import GridSearchCV"
      ],
      "execution_count": 0,
      "outputs": []
    },
    {
      "cell_type": "markdown",
      "metadata": {
        "id": "csNmKLNoHl_a",
        "colab_type": "text"
      },
      "source": [
        "> ## Importa as base de dados"
      ]
    },
    {
      "cell_type": "code",
      "metadata": {
        "id": "Ctsu_EW0HnAi",
        "colab_type": "code",
        "colab": {}
      },
      "source": [
        "X = pd.read_csv('https://raw.githubusercontent.com/srpantano/Learnpath/master/entradas-breast.csv')\n",
        "y = pd.read_csv('https://raw.githubusercontent.com/srpantano/Learnpath/master/saidas-breast.csv')"
      ],
      "execution_count": 0,
      "outputs": []
    },
    {
      "cell_type": "markdown",
      "metadata": {
        "id": "wnUvYwcXHuFZ",
        "colab_type": "text"
      },
      "source": [
        "> ## Define a rede neural\n",
        "\n",
        ">>>> ![alt text](https://raw.githubusercontent.com/srpantano/Learnpath/master/Rede.png)"
      ]
    },
    {
      "cell_type": "code",
      "metadata": {
        "id": "s802p84pHxzi",
        "colab_type": "code",
        "colab": {}
      },
      "source": [
        "from keras import backend as k #################### Linha criada para o k.clear_session ##################\n",
        "def createNetwork(optimizer, loss, kernel_initializer, activation, neurons):\n",
        "  k.clear_session() #################### Linha incluída para acelerar o processo. Ela limpa as variáveis da memória a cada passada ##################\n",
        "  classifier = Sequential()\n",
        "  '''Número de classes é 30. A saída é binário (é ou não malígno) = \n",
        "  units é o número de neurônios na camada\n",
        "  (30 classes + 1 saída) / 2 = 15.5, arredonda para 16\n",
        "  relu é a função de ativação mais indicada para camadas ocultas de Deep Learning\n",
        "  input_dim = Quantidade de classes de entrada\n",
        "  Por padrão ele possui um parâmetro use_bias=True, para utilizar Bias'''\n",
        "  classifier.add(Dense(units = neurons, activation=activation, \n",
        "                       kernel_initializer=kernel_initializer, \n",
        "                       input_dim = 30))\n",
        "  \n",
        "  classifier.add(Dropout(0.2))\n",
        "  \n",
        "  classifier.add(Dense(units = neurons, activation=activation, \n",
        "                       kernel_initializer=kernel_initializer))\n",
        "  \n",
        "  classifier.add(Dropout(0.2))\n",
        "  \n",
        "  #Saída binária, sigmoid para ser entre 0 e 1\n",
        "  classifier.add(Dense(units = 1, activation = activation))\n",
        "\n",
        "  classifier.compile(optimizer = optimizer, loss = 'binary_crossentropy', \n",
        "                     metrics = ['binary_accuracy'])\n",
        "  \n",
        "  return classifier"
      ],
      "execution_count": 0,
      "outputs": []
    },
    {
      "cell_type": "markdown",
      "metadata": {
        "id": "5Xk0Qy-mODoy",
        "colab_type": "text"
      },
      "source": [
        ">## Cria o modelo\n",
        "\n",
        "Nesse  caso, ele executa com todas as combinações possíveis e ao final armazena os melhores parâmetros e o melhor acurácia."
      ]
    },
    {
      "cell_type": "code",
      "metadata": {
        "id": "q7OOGTbaOBvP",
        "colab_type": "code",
        "colab": {}
      },
      "source": [
        "classifier = KerasClassifier(build_fn = createNetwork)\n",
        "parameters = {'batch_size': [10, 30],\n",
        "             'epochs': [50, 100],\n",
        "             'optimizer': ['adam', 'sgd'],\n",
        "             'loss': ['binary_crossentropy', 'hinge'],\n",
        "             'kernel_initializer': ['random_uniform', 'normal'],\n",
        "             'activation': ['relu', 'tanh'],\n",
        "             'neurons': [16, 8]}\n",
        "grid_search = GridSearchCV(estimator = classifier, param_grid = parameters, scoring = 'accuracy', cv = 5)\n",
        "grid_search = grid_search.fit(X, y)\n",
        "best_params = grid_search.best_params_\n",
        "best_score = grid_search.best_score_"
      ],
      "execution_count": 0,
      "outputs": []
    },
    {
      "cell_type": "markdown",
      "metadata": {
        "id": "hHDQVE5eNLUz",
        "colab_type": "text"
      },
      "source": [
        ">## O resultado do *best_params* indica quais os melhores parâmetros para usar na sua rede neural"
      ]
    },
    {
      "cell_type": "code",
      "metadata": {
        "id": "1FTiRwCZD4y6",
        "colab_type": "code",
        "colab": {
          "base_uri": "https://localhost:8080/",
          "height": 52
        },
        "outputId": "fe7ca6cd-3a59-4fbd-a29c-451804f91a8f"
      },
      "source": [
        "print(best_params)\n",
        "print(best_score)"
      ],
      "execution_count": 12,
      "outputs": [
        {
          "output_type": "stream",
          "text": [
            "{'activation': 'tanh', 'batch_size': 30, 'epochs': 50, 'kernel_initializer': 'random_uniform', 'loss': 'binary_crossentropy', 'neurons': 16, 'optimizer': 'adam'}\n",
            "0.7223198594024605\n"
          ],
          "name": "stdout"
        }
      ]
    }
  ]
}